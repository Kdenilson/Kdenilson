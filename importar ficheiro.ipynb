{
  "cells": [
    {
      "cell_type": "markdown",
      "metadata": {
        "id": "view-in-github",
        "colab_type": "text"
      },
      "source": [
        "<a href=\"https://colab.research.google.com/github/Kdenilson/Kdenilson/blob/main/exer%201.ipynb\" target=\"_parent\"><img src=\"https://colab.research.google.com/assets/colab-badge.svg\" alt=\"Open In Colab\"/></a>"
      ]
    },
    {
      "cell_type": "code",
      "source": [
        "import pandas as pd"
      ],
      "metadata": {
        "id": "WNf8_U1w6W-I"
      },
      "execution_count": 4,
      "outputs": []
    },
    {
      "cell_type": "code",
      "source": [
        "auto = pd.read_csv(\"auto-mpg.data.txt\")"
      ],
      "metadata": {
        "id": "8HDYZNta6ehq"
      },
      "execution_count": 3,
      "outputs": []
    },
    {
      "cell_type": "code",
      "source": [
        "print (auto.head())"
      ],
      "metadata": {
        "colab": {
          "base_uri": "https://localhost:8080/"
        },
        "id": "SAI-2c7061_B",
        "outputId": "0dee5e6f-7f4f-463a-ed26-204344f7d756"
      },
      "execution_count": 5,
      "outputs": [
        {
          "output_type": "stream",
          "name": "stdout",
          "text": [
            "  18.0   8   307.0      130.0      3504.      12.0   70  1\\t\"chevrolet chevelle malibu\"\n",
            "0  15.0   8   350.0      165.0      3693.      11...                                   \n",
            "1  18.0   8   318.0      150.0      3436.      11...                                   \n",
            "2  16.0   8   304.0      150.0      3433.      12...                                   \n",
            "3  17.0   8   302.0      140.0      3449.      10...                                   \n",
            "4  15.0   8   429.0      198.0      4341.      10...                                   \n"
          ]
        }
      ]
    }
  ],
  "metadata": {
    "colab": {
      "name": "Damos-lhe as boas-vindas ao Colaboratory",
      "provenance": [],
      "include_colab_link": true
    },
    "kernelspec": {
      "display_name": "Python 3",
      "name": "python3"
    }
  },
  "nbformat": 4,
  "nbformat_minor": 0
}
